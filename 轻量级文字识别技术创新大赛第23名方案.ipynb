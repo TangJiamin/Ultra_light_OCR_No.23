{
 "cells": [
  {
   "cell_type": "markdown",
   "metadata": {
    "collapsed": false
   },
   "source": [
    "# 数据集下载\n",
    "\n",
    "数据集从比赛链接处下载：\n",
    "\n",
    "\n",
    "<img src=\"https://ai-studio-static-online.cdn.bcebos.com/6303c3a35cc548fc9b01037fb41ef491c10c85ea62f74427ab9fb52b99b58ee1\" width = \"800\" height = \"800\" alt=\"\" align=center />\n",
    "\n",
    "\n",
    "\n",
    "在/home/aistudio/data 目录下已经包含了下载好的训练数据和测试数据。"
   ]
  },
  {
   "cell_type": "markdown",
   "metadata": {
    "collapsed": false
   },
   "source": [
    "# 解压数据集\n",
    "\n",
    "使用tree命令可以查看到训练集位于/home/aistudio/data 目录下，可以进入到这个目录下解压训练数据"
   ]
  },
  {
   "cell_type": "code",
   "execution_count": null,
   "metadata": {
    "collapsed": false
   },
   "outputs": [],
   "source": [
    "# 检查数据集所在路径\r\n",
    "!tree -L 3 /home/aistudio/data"
   ]
  },
  {
   "cell_type": "code",
   "execution_count": 18,
   "metadata": {
    "collapsed": false
   },
   "outputs": [],
   "source": [
    "!cd /home/aistudio/data/data87746 && unzip  训练数据集.zip\r\n",
    "!cd /home/aistudio/data/data87750 && unzip  A榜测试数据集.zip"
   ]
  },
  {
   "cell_type": "code",
   "execution_count": null,
   "metadata": {
    "collapsed": false
   },
   "outputs": [],
   "source": [
    "!cd /home/aistudio/work/Ultra_light_OCR_No.23 && unzip  upload.zip"
   ]
  },
  {
   "cell_type": "markdown",
   "metadata": {
    "collapsed": false
   },
   "source": [
    "使用命令查看训练数据文件夹下数据量是否是10万张"
   ]
  },
  {
   "cell_type": "code",
   "execution_count": null,
   "metadata": {
    "collapsed": false
   },
   "outputs": [],
   "source": [
    "!cd ~/data/data87746/训练数据集/TrainImages  &&  ls -l | grep \"^-\" | wc -l"
   ]
  },
  {
   "cell_type": "markdown",
   "metadata": {
    "collapsed": false
   },
   "source": [
    "# 下载代码\n"
   ]
  },
  {
   "cell_type": "code",
   "execution_count": null,
   "metadata": {
    "collapsed": false
   },
   "outputs": [],
   "source": [
    "# 进入到gitclone 的目录下\r\n",
    "%cd /home/aistudio/work/\r\n",
    "\r\n",
    "# 从从GitHub链接下载代码\r\n",
    "!git clone https://github.com/TangJiamin/Ultra_light_OCR_No.23.git\r\n",
    "# 检查源代码文件结构\r\n",
    "# !cd work; mkdir model\r\n",
    "!tree /home/aistudio/work/ -L 2"
   ]
  },
  {
   "cell_type": "markdown",
   "metadata": {
    "collapsed": false
   },
   "source": [
    "# 代码内容说明\n"
   ]
  },
  {
   "cell_type": "markdown",
   "metadata": {
    "collapsed": false
   },
   "source": [
    "## 数据拼接\n",
    "\n",
    "对较短的文本进行拼接操作，拼接后的文本默认保存在'save_path'中，拼接后的标签默认保存在'./concat_train_label.txt'中"
   ]
  },
  {
   "cell_type": "code",
   "execution_count": 19,
   "metadata": {
    "collapsed": false
   },
   "outputs": [
    {
     "name": "stdout",
     "output_type": "stream",
     "text": [
      "/home/aistudio/work/Ultra_light_OCR_No.23/data_process\n",
      "100%|████████████████████████████████████| 57947/57947 [01:40<00:00, 576.61it/s]\n"
     ]
    }
   ],
   "source": [
    "# 进入gitclone 的data_process目录下\r\n",
    "%cd /home/aistudio/work/Ultra_light_OCR_No.23/data_process/\r\n",
    "# 运行concat.py文件，修改训练数据和标签路径\r\n",
    "!python3.7 concat.py"
   ]
  },
  {
   "cell_type": "markdown",
   "metadata": {
    "collapsed": false
   },
   "source": [
    "使用拼接后得到的图片替换原有训练数据集中相应图片得到新的训练数据集"
   ]
  },
  {
   "cell_type": "code",
   "execution_count": 22,
   "metadata": {
    "collapsed": false
   },
   "outputs": [],
   "source": [
    "import shutil\r\n",
    "import os\r\n",
    "target_path = '/home/aistudio/data/data87746/训练数据集/TrainImages'\r\n",
    "ori_path = '/home/aistudio/data/data87746/训练数据集/concat_images'\r\n",
    "for file in os.listdir(ori_path):\r\n",
    "    shutil.copy(os.path.join(ori_path, file), os.path.join(target_path, file))"
   ]
  },
  {
   "cell_type": "markdown",
   "metadata": {
    "collapsed": false
   },
   "source": [
    "## Dockerfile 创建容器\n"
   ]
  },
  {
   "cell_type": "code",
   "execution_count": 10,
   "metadata": {
    "collapsed": false
   },
   "outputs": [],
   "source": [
    "# 进入到gitclone 的目录下\r\n",
    "%cd /home/aistudio/work/Ultra_light_OCR_No.23/\r\n",
    "# build 镜像\r\n",
    "!docker build -t paddleocr .\r\n",
    "# 创建容器时挂载数据\r\n",
    "!docker run -it -v /home/aistuodio/data:/data --gpus all paddleocr:latest /bin/bash"
   ]
  },
  {
   "cell_type": "markdown",
   "metadata": {
    "collapsed": false
   },
   "source": [
    "## 基于PaddleOCR的识别模型训练"
   ]
  },
  {
   "cell_type": "code",
   "execution_count": 12,
   "metadata": {
    "collapsed": false
   },
   "outputs": [
    {
     "name": "stdout",
     "output_type": "stream",
     "text": [
      "/home/aistudio/work/Ultra_light_OCR_No.23/PaddleOCR\n"
     ]
    }
   ],
   "source": [
    "# 进入到容器的PaddleOCR目录下\r\n",
    "%cd /home/aistudio/work/Ultra_light_OCR_No.23/PaddleOCR/"
   ]
  },
  {
   "cell_type": "markdown",
   "metadata": {
    "collapsed": false
   },
   "source": [
    "配置环境"
   ]
  },
  {
   "cell_type": "code",
   "execution_count": 16,
   "metadata": {
    "collapsed": false
   },
   "outputs": [],
   "source": [
    "!pip install -r requirements.txt -i https://mirror.baidu.com/pypi/simple"
   ]
  },
  {
   "cell_type": "markdown",
   "metadata": {
    "collapsed": false
   },
   "source": [
    "设置配置文件，完成识别算法训练 PaddleOCR 通过yml配置文件的方式选择不同的算法和训练参数等，这里我们使用configs/rec/ch_ppocr_v2.0/rec_chinese_lite_train_v2.0.yml配置文件完成识别算法训练；\n",
    "\n",
    "从该配置文件中，我们可以得到如下信息：\n",
    "\n",
    "Architecture: model_type: rec algorithm: CRNN Transform: Backbone: name: MobileNetV3 scale: 0.5 model_name: large large_stride: [1, 2, 2, 2] Neck: name: SequenceEncoder encoder_type: rnn hidden_size: 48 Head: name: CTCHead fc_decay: 0.00001\n",
    "\n",
    "Loss: name: CTCLoss 表示我们使用的是CRNN算法，backbone是MobileNetV3，损失函数是CTCLoss。我们也可以在配置文件中设置训练数据和测试数据的路径，\n",
    "\n",
    "vim configs/rec/ch_ppocr_v2.0/rec_chinese_lite_train_v2.0.yml\n",
    "\n",
    "对于其中的Train.data_dir, Train.label_file_list, Eval.data_dir, Eval.label_file_list字段需要用户手动配置相关路径，\n",
    "\n",
    "本项目中路径如下所示：\n",
    "\n",
    "Train: dataset: name: SimpleDataSet data_dir: /home/tangjiamin/PaddleOCR/train_data/TrainImages label_file_list: [\"/home/tangjiamin/PaddleOCR/train_data/concat_train_label.txt\"] ... ...\n",
    "\n",
    "Eval: dataset: name: SimpleDataSet data_dir: /home/tangjiamin/PaddleOCR/test_data/TestAImages label_file_list: [\"/home/tangjiamin/PaddleOCR/test_data/ppocr_server_v2.0_rec_infer.txt\"] 另外，本实验仅做示例参考，测试集reader部分使用训练集数据和标签，所以，也关闭训练中评估的选项，即将Global.cal_metric_during_train 设置为False。\n",
    "\n",
    "Global: use_gpu: true ..... cal_metric_during_train: False 开发者们在做实验时，可以把训练数据拆分为训练集和测试集。\n",
    "\n",
    "由于aistuido的共享内存有限，可能无法很好支持多线程的任务，所以需要将以下字段改成0\n",
    "\n",
    "Train.loader.num_workers: 0 Eval.loader.num_workers: 0 关于yml的更多细节，可以参考PaddleOCR"
   ]
  },
  {
   "cell_type": "markdown",
   "metadata": {
    "collapsed": false
   },
   "source": [
    "## 训练脚本\n",
    "\n",
    "本代码会训练一个模型，并且保存到Global.save_model_dir中，本实验中，训练日志默认保存到文件`output/rec_chinese_lite_v2.0/train.log`   \n",
    "\n",
    "### 训练日志样例\n",
    "```\n",
    "[2021/06/08 10:27:22] root INFO: epoch: [496/1000], iter: 10, lr: 0.000007, loss: 3.031638, acc: 0.653333, norm_edit_dis: 0.927252, reader_cost: 1.45727 s, batch_cost: 2.27184 s, samples: 1650, ips: 72.62830\n",
    "[2021/06/08 10:27:31] root INFO: epoch: [496/1000], iter: 20, lr: 0.000007, loss: 3.199826, acc: 0.640000, norm_edit_dis: 0.925748, reader_cost: 0.00378 s, batch_cost: 0.51155 s, samples: 1500, ips: 293.22549\n",
    "[2021/06/08 10:27:39] root INFO: epoch: [496/1000], iter: 30, lr: 0.000007, loss: 3.371130, acc: 0.630000, norm_edit_dis: 0.923354, reader_cost: 0.00290 s, batch_cost: 0.52430 s, samples: 1500, ips: 286.09623\n",
    "[2021/06/08 10:27:49] root INFO: epoch: [496/1000], iter: 40, lr: 0.000007, loss: 3.372990, acc: 0.636667, norm_edit_dis: 0.923633, reader_cost: 0.00280 s, batch_cost: 0.57715 s, samples: 1500, ips: 259.89564\n",
    "[2021/06/08 10:27:58] root INFO: epoch: [496/1000], iter: 50, lr: 0.000007, loss: 3.407562, acc: 0.640000, norm_edit_dis: 0.924480, reader_cost: 0.00350 s, batch_cost: 0.53732 s, samples: 1500, ips: 279.16580\n",
    "```"
   ]
  },
  {
   "cell_type": "markdown",
   "metadata": {
    "collapsed": false
   },
   "source": [
    "启动训练前要修改使用的config中字典表路径、训练和测试数据及标签路径，启动训练代码如下："
   ]
  },
  {
   "cell_type": "code",
   "execution_count": 17,
   "metadata": {
    "collapsed": false
   },
   "outputs": [
    {
     "name": "stdout",
     "output_type": "stream",
     "text": [
      "/opt/conda/envs/python35-paddle120-env/lib/python3.7/site-packages/setuptools/depends.py:2: DeprecationWarning: the imp module is deprecated in favour of importlib; see the module's documentation for alternative uses\n",
      "  import imp\n",
      "Config use_gpu cannot be set as true while you are using paddlepaddle cpu version ! \n",
      "Please try: \n",
      "\t1. Install paddlepaddle-gpu to run model on GPU \n",
      "\t2. Set use_gpu as false in config file to run model on CPU\n"
     ]
    }
   ],
   "source": [
    "!python3.7 tools/train.py -c configs/rec/ch_ppocr_v2.0/rec_chinese_lite_train_v2.0.yml"
   ]
  },
  {
   "cell_type": "markdown",
   "metadata": {
    "collapsed": false
   },
   "source": [
    "## 基于预测引擎的预测\n",
    "本代码会预测训练好的模型，并将结果保存成txt格式，可以直接送到比赛提交入口测评，文件默认保存在`/infer_pre_res.txt` \n",
    "\n",
    "#### 样例\n",
    "`python3.7 tools/infer/predict_rec.py --image_dir=\"./test_data/TestAImages\" --rec_model_dir=\"./output/bd_competition/best/inference\" --rec_image_shape=\"3, 48, 512\" --rec_char_type=\"ch\" --rec_char_dict_path=\"./train_data/charset.txt\"\"`\n",
    "\n",
    "#### 你将会看到类似如下的测试日志\n",
    "```\n",
    "[2021/07/08 15:05:06] root INFO: Predicts of ./test_data/TestBImages/TestB_009988.jpg:('不天而心', 0.9524222)\n",
    "[2021/07/08 15:05:06] root INFO: Predicts of ./test_data/TestBImages/TestB_009989.jpg:('高于国家标准', 0.99632424)\n",
    "[2021/07/08 15:05:06] root INFO: Predicts of ./test_data/TestBImages/TestB_009990.jpg:('无', 0.92225355)\n",
    "[2021/07/08 15:05:06] root INFO: Predicts of ./test_data/TestBImages/TestB_009991.jpg:('科目', 0.92987084)\n",
    "[2021/07/08 15:05:06] root INFO: Predicts of ./test_data/TestBImages/TestB_009992.jpg:('理', 0.9996427)\n",
    "[2021/07/08 15:05:06] root INFO: Predicts of ./test_data/TestBImages/TestB_009993.jpg:('东航MU54171319（中）', 0.9353286)\n",
    "[2021/07/08 15:05:06] root INFO: Predicts of ./test_data/TestBImages/TestB_009994.jpg:('极润护肤', 0.99700654)\n",
    "[2021/07/08 15:05:06] root INFO: Predicts of ./test_data/TestBImages/TestB_009995.jpg:('金凤区分局', 0.99352777)\n",
    "[2021/07/08 15:05:06] root INFO: Predicts of ./test_data/TestBImages/TestB_009996.jpg:('零售价：', 0.99186826)\n",
    "[2021/07/08 15:05:06] root INFO: Predicts of ./test_data/TestBImages/TestB_009997.jpg:('5', 0.9993771)\n",
    "[2021/07/08 15:05:06] root INFO: Predicts of ./test_data/TestBImages/TestB_009998.jpg:('廿四', 0.99556893)\n",
    "[2021/07/08 15:05:06] root INFO: Predicts of ./test_data/TestBImages/TestB_009999.jpg:('3.5折C', 0.9477636)\n",
    "[2021/07/08 15:05:06] root INFO: Total predict time for 10000 images, cost: 78.094\n",
    "```"
   ]
  },
  {
   "cell_type": "code",
   "execution_count": null,
   "metadata": {
    "collapsed": false
   },
   "outputs": [],
   "source": [
    "!du -sh ./inference/"
   ]
  },
  {
   "cell_type": "markdown",
   "metadata": {
    "collapsed": false
   },
   "source": [
    "inference模型保存在'./inference'文件夹，可使用du命令查看导出的inference模型大小。"
   ]
  },
  {
   "cell_type": "markdown",
   "metadata": {
    "collapsed": false
   },
   "source": [
    "启动预测代码如下："
   ]
  },
  {
   "cell_type": "code",
   "execution_count": null,
   "metadata": {
    "collapsed": false
   },
   "outputs": [],
   "source": [
    "!python3.7 tools/infer/predict_rec.py --image_dir=\"./test_data/TestAImages\" --rec_model_dir=\"./output/bd_competition/best/inference\" --rec_image_shape=\"3, 48, 512\" --rec_char_type=\"ch\" --rec_char_dict_path=\"./charset.txt\""
   ]
  },
  {
   "cell_type": "markdown",
   "metadata": {
    "collapsed": false
   },
   "source": [
    "# 模型构建思路及调优过程\n",
    "\n",
    "## 数据增强策略\n",
    "\n",
    "对训练图片依次执行tia_distort、tia_stretch、tia_perspective、剪切（训练一段时间后取消）、模糊、变色、抖动、噪声和反色操作，每个操作执行的概率为0.4\n",
    "\n",
    "## 调参优化策略\n",
    "\n",
    "初始学习率设为0.003，数据增强策略中包含剪切操作，在迭代一段时间后发现loss开始震荡，将学习率降至0.001并取消剪切操作"
   ]
  }
 ],
 "metadata": {
  "kernelspec": {
   "display_name": "PaddlePaddle 2.0.0b0 (Python 3.5)",
   "language": "python",
   "name": "py35-paddle1.2.0"
  },
  "language_info": {
   "codemirror_mode": {
    "name": "ipython",
    "version": 3
   },
   "file_extension": ".py",
   "mimetype": "text/x-python",
   "name": "python",
   "nbconvert_exporter": "python",
   "pygments_lexer": "ipython3",
   "version": "3.7.4"
  }
 },
 "nbformat": 4,
 "nbformat_minor": 1
}
